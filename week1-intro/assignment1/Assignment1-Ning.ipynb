{
 "cells": [
  {
   "cell_type": "markdown",
   "metadata": {},
   "source": [
    "# Assignment1-Ning\n",
    "* This assignment is for exercising Python fundamental I and getting familiar with Python syntax."
   ]
  },
  {
   "cell_type": "markdown",
   "metadata": {},
   "source": [
    "### Q1. Write a program which can compute the factorial of a given numbers.\n",
    "* factorial 阶乘"
   ]
  },
  {
   "cell_type": "code",
   "execution_count": 2,
   "metadata": {},
   "outputs": [],
   "source": [
    "def factorial(x: int) -> int:\n",
    "    if x < 0:\n",
    "        print(\"请输入一个正整数\")\n",
    "    elif x == 0:\n",
    "        return int(1)\n",
    "    else:\n",
    "        x_fac = 1\n",
    "        while x >= 1:\n",
    "            x_fac = x_fac * x\n",
    "            x -= 1\n",
    "        return x_fac"
   ]
  },
  {
   "cell_type": "code",
   "execution_count": 3,
   "metadata": {},
   "outputs": [],
   "source": [
    "assert factorial(0) == 1\n",
    "assert factorial(1) == 1\n",
    "assert factorial(9) == 362880"
   ]
  },
  {
   "cell_type": "markdown",
   "metadata": {},
   "source": [
    "### Q2. Write a program which take a num and print a str as the sum of all numbers from 1 to this number\n",
    "* [1 + 2 + ... + x] and x is always >= 1."
   ]
  },
  {
   "cell_type": "markdown",
   "metadata": {},
   "source": [
    "#### 法一：循环算法"
   ]
  },
  {
   "cell_type": "code",
   "execution_count": 6,
   "metadata": {},
   "outputs": [],
   "source": [
    "def print_sum1(x: int) -> str:\n",
    "    total = 0\n",
    "    for i in range(x + 1):\n",
    "        total += i\n",
    "    return str(total)\n",
    "# 没弄明白return\"\"的用法"
   ]
  },
  {
   "cell_type": "code",
   "execution_count": 7,
   "metadata": {},
   "outputs": [],
   "source": [
    "assert print_sum1(1) == \"1\"\n",
    "assert print_sum1(3) == \"6\"\n",
    "assert print_sum1(5) == \"15\""
   ]
  },
  {
   "cell_type": "markdown",
   "metadata": {},
   "source": [
    "#### 法二：高斯求和公式"
   ]
  },
  {
   "cell_type": "code",
   "execution_count": 29,
   "metadata": {},
   "outputs": [],
   "source": [
    "def print_sum2(x: int) -> str:\n",
    "    total = (1 + x) * x / 2\n",
    "    return str(int(total))"
   ]
  },
  {
   "cell_type": "code",
   "execution_count": 30,
   "metadata": {},
   "outputs": [],
   "source": [
    "assert print_sum2(1) == \"1\"\n",
    "assert print_sum2(3) == \"6\"\n",
    "assert print_sum2(5) == \"15\""
   ]
  },
  {
   "cell_type": "markdown",
   "metadata": {},
   "source": [
    "### Q3. Write a program to check is a year is leap year (x is always > 0)\n",
    "* 能被400整除，或者能被4整除但不能被100整除的都是闰年，其余的年份均为平年"
   ]
  },
  {
   "cell_type": "code",
   "execution_count": 32,
   "metadata": {},
   "outputs": [],
   "source": [
    "def is_leap_year(year: int) -> bool:\n",
    "    if year % 400 == 0 or (year % 4 == 0 and year % 100 != 0):\n",
    "        return True\n",
    "    else:\n",
    "        return False\n",
    "# 对return不熟"
   ]
  },
  {
   "cell_type": "code",
   "execution_count": 33,
   "metadata": {},
   "outputs": [],
   "source": [
    "assert is_leap_year(2000)\n",
    "assert is_leap_year(1996)\n",
    "assert not is_leap_year(1900)\n",
    "assert not is_leap_year(2001)"
   ]
  },
  {
   "cell_type": "markdown",
   "metadata": {},
   "source": [
    "### Q4. Write a program to convert a list of lowercase words to uppercase words."
   ]
  },
  {
   "cell_type": "markdown",
   "metadata": {},
   "source": [
    "#### 法一：用upper()函数："
   ]
  },
  {
   "cell_type": "code",
   "execution_count": 34,
   "metadata": {},
   "outputs": [],
   "source": [
    "def to_upper_case(words: [str]) -> [str]:\n",
    "    words_upper = []\n",
    "    for word in words:\n",
    "        words_upper.append(\"\".join(word.upper()))\n",
    "    return words_upper\n",
    "# 不能直接upper，直接upper输出的是str"
   ]
  },
  {
   "cell_type": "code",
   "execution_count": 35,
   "metadata": {},
   "outputs": [],
   "source": [
    "assert to_upper_case([\"abc\", \"de\"]) == [\"ABC\", \"DE\"]\n",
    "assert to_upper_case([\"Amazon\", \"Apple\"]) == [\"AMAZON\", \"APPLE\"]"
   ]
  },
  {
   "cell_type": "markdown",
   "metadata": {},
   "source": [
    "#### 法二：用ASCII码"
   ]
  },
  {
   "cell_type": "code",
   "execution_count": 37,
   "metadata": {},
   "outputs": [],
   "source": [
    "def to_upper_case2(words: [str]) -> [str]:\n",
    "    words_upper = []\n",
    "    for word in words:\n",
    "        word_upper = []\n",
    "        for letter in word:\n",
    "            if 97 <= ord(letter) <= 122:  # 小写字母\n",
    "                upper_letter = ord(letter) - 32  # 大小写字母之前差了32, chr()函数可以将编码数值转为字符（python没有字符的概念）\n",
    "            else:\n",
    "                upper_letter = ord(letter)\n",
    "            word_upper.append(chr(upper_letter))\n",
    "        words_upper.append(\"\".join(word_upper))\n",
    "    return words_upper"
   ]
  },
  {
   "cell_type": "code",
   "execution_count": 39,
   "metadata": {},
   "outputs": [],
   "source": [
    "assert to_upper_case2([\"abc\", \"de\"]) == [\"ABC\", \"DE\"]\n",
    "assert to_upper_case2([\"Amazon\", \"Apple\"]) == [\"AMAZON\", \"APPLE\"]"
   ]
  },
  {
   "cell_type": "markdown",
   "metadata": {},
   "source": [
    "### Q5. Write a program to use only 'and' and 'or' to implement 'xor'\n",
    "* https://baike.baidu.com/item/%E5%BC%82%E6%88%96/10993677?fromtitle=xor&fromid=64178"
   ]
  },
  {
   "cell_type": "code",
   "execution_count": 40,
   "metadata": {},
   "outputs": [],
   "source": [
    "def xor(a: bool, b: bool) -> bool:\n",
    "    if a != b:\n",
    "        return True\n",
    "    else:\n",
    "        return False"
   ]
  },
  {
   "cell_type": "code",
   "execution_count": 41,
   "metadata": {},
   "outputs": [],
   "source": [
    "assert not xor(True, True)\n",
    "assert xor(True, False)\n",
    "assert xor(False, True)\n",
    "assert not xor(False, False)"
   ]
  },
  {
   "cell_type": "markdown",
   "metadata": {},
   "source": [
    "### Q6. Write a Python program to display the current date and time under standard ISO 8601\n",
    "* e.g. 2021-12-03T10:15:30Z"
   ]
  },
  {
   "cell_type": "code",
   "execution_count": 44,
   "metadata": {},
   "outputs": [],
   "source": [
    "def get_current_time() -> str:\n",
    "    import time\n",
    "    current_time = time.strftime(\"%Y-%m-%dT%H:%M:%SZ\", time.localtime())\n",
    "    return current_time"
   ]
  },
  {
   "cell_type": "code",
   "execution_count": 45,
   "metadata": {},
   "outputs": [],
   "source": [
    "assert \"T\" in get_current_time()\n",
    "assert \"Z\" in get_current_time()\n",
    "assert 20 == len(get_current_time())"
   ]
  },
  {
   "cell_type": "markdown",
   "metadata": {},
   "source": [
    "### Q7. Write a program to sum of two given integers. However, if the sum is between 15 to 20 it will return 20\n",
    "* please define function and test yourself."
   ]
  },
  {
   "cell_type": "code",
   "execution_count": 48,
   "metadata": {},
   "outputs": [],
   "source": [
    "def special_sum(x: int, y: int) -> int:\n",
    "    spe_sum: int = x + y\n",
    "    if 15 <= spe_sum <= 20:\n",
    "        return 20\n",
    "    else:\n",
    "        return spe_sum"
   ]
  },
  {
   "cell_type": "code",
   "execution_count": 49,
   "metadata": {},
   "outputs": [],
   "source": [
    "assert special_sum(10, 5) == 20\n",
    "assert special_sum(8, 10) == 20\n",
    "assert special_sum(5, 5) == 10\n",
    "assert special_sum(10, 20) == 30"
   ]
  }
 ],
 "metadata": {
  "kernelspec": {
   "display_name": "Python 3",
   "language": "python",
   "name": "python3"
  },
  "language_info": {
   "codemirror_mode": {
    "name": "ipython",
    "version": 3
   },
   "file_extension": ".py",
   "mimetype": "text/x-python",
   "name": "python",
   "nbconvert_exporter": "python",
   "pygments_lexer": "ipython3",
   "version": "3.9.0"
  }
 },
 "nbformat": 4,
 "nbformat_minor": 4
}
