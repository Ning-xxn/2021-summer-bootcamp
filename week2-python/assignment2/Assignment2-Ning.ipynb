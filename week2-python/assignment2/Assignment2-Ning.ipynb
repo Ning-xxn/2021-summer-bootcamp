{
 "cells": [
  {
   "cell_type": "markdown",
   "metadata": {},
   "source": [
    "# Assignment2 - Ning\n",
    "\n",
    "#### 1.Steps for solving the problem：\n",
    "\n",
    "* understand question and test case\n",
    "* check input\n",
    "* algorithm\n",
    "* check return\n",
    "\n",
    "#### 2.Instruction: \n",
    "* make sure your code pass the assertion statements\n"
   ]
  },
  {
   "cell_type": "markdown",
   "metadata": {},
   "source": [
    "### Q1. Given a positive integer N. The task is to write a Python program to check if the number is prime or not."
   ]
  },
  {
   "cell_type": "code",
   "execution_count": 173,
   "metadata": {},
   "outputs": [],
   "source": [
    "def is_prime(n: int) -> bool:\n",
    "    if n < 0 or int(n) != n:\n",
    "        print(n, \"不是自然数，请输入一个自然数\")\n",
    "        return False\n",
    "    elif n == 0 or n == 1:\n",
    "        print(n, \"既不是质数，也不是合数\")\n",
    "        return False\n",
    "    elif n == 2:\n",
    "        return True\n",
    "    else:\n",
    "        for i in range(2, n):\n",
    "            if n%i == 0:\n",
    "                return False\n",
    "                break      # 在此处break可以在n为合数时省去几次循环\n",
    "        else:\n",
    "            return True"
   ]
  },
  {
   "cell_type": "code",
   "execution_count": 61,
   "metadata": {
    "scrolled": true
   },
   "outputs": [
    {
     "name": "stdout",
     "output_type": "stream",
     "text": [
      "-1 不是自然数，请输入一个自然数\n",
      "0 既不是质数，也不是合数\n"
     ]
    }
   ],
   "source": [
    "# DO NOT ALTER BELOW.\n",
    "assert is_prime(2)\n",
    "assert not is_prime(15)\n",
    "assert is_prime(7907)\n",
    "assert not is_prime(-1)\n",
    "assert not is_prime(0)"
   ]
  },
  {
   "cell_type": "markdown",
   "metadata": {},
   "source": [
    "### Q2 Write a function rotate(ar[], d) that rotates arr[] of size n by d elements.\n",
    "* Input ar = [1,2,3,4,5,6,7], d = 2\n",
    "* Output [3,4,5,6,7,1,2]"
   ]
  },
  {
   "cell_type": "code",
   "execution_count": 82,
   "metadata": {},
   "outputs": [],
   "source": [
    "def rotate(ar: [int], d: int) -> [int]:\n",
    "    for i in range(d):\n",
    "        p = ar[0]\n",
    "        ar.append(p)\n",
    "        ar.pop(0)\n",
    "    return ar"
   ]
  },
  {
   "cell_type": "code",
   "execution_count": 83,
   "metadata": {},
   "outputs": [],
   "source": [
    "# DO NOT ALTER BELOW.\n",
    "assert rotate([1,2,3,4,5,6,7], 2) == [3,4,5,6,7,1,2]\n",
    "assert rotate([1,2,3], 4) == [2,3,1]"
   ]
  },
  {
   "cell_type": "markdown",
   "metadata": {},
   "source": [
    "### Q3 Implement a workable selection sort algorithm (Selection sort)\n",
    "* https://www.runoob.com/w3cnote/selection-sort.html 作为参考\n",
    "* Input students would be a list of [student #, score], sort by score ascending order."
   ]
  },
  {
   "cell_type": "code",
   "execution_count": 26,
   "metadata": {},
   "outputs": [],
   "source": [
    "def selection_sort(arr: [[int]]) -> [[int]]:\n",
    "    score = list()\n",
    "    score_s = list()\n",
    "    for i in range(len(arr)):\n",
    "        score.append(arr[i][1])\n",
    "    score.sort()\n",
    "    for j in range(len(arr)):\n",
    "        for p in range(len(arr)):\n",
    "            if arr[p][1] == score[j]:\n",
    "                score_s.append(arr[p])\n",
    "    return score_s"
   ]
  },
  {
   "cell_type": "code",
   "execution_count": 28,
   "metadata": {},
   "outputs": [],
   "source": [
    "# DO NOT ALTER BELOW.\n",
    "assert selection_sort([]) == []\n",
    "assert selection_sort([[1, 100], [2, 70], [3, 95], [4, 66], [5, 98]]) == [[4, 66], [2, 70], [3, 95], [5, 98], [1, 100]]"
   ]
  },
  {
   "cell_type": "markdown",
   "metadata": {},
   "source": [
    "### Q4. Convert a list of Tuples into Dictionary\n",
    "* tips: copy operation - copy by value, copy by reference\n",
    "* Do NOT RETURN di, EDIT IN-PLACE"
   ]
  },
  {
   "cell_type": "code",
   "execution_count": 167,
   "metadata": {},
   "outputs": [],
   "source": [
    "expected_dict = {}\n",
    "def convert(tup: (any), di: {any, any}) -> None: \n",
    "    for i in range(0, len(tup), 2):\n",
    "        di[tup[i]] = tup[i+1]\n",
    "    return"
   ]
  },
  {
   "cell_type": "code",
   "execution_count": 168,
   "metadata": {},
   "outputs": [],
   "source": [
    "# DO NOT ALTER BELOW.\n",
    "expected_dict = {}\n",
    "convert((), expected_dict)\n",
    "assert expected_dict == {}\n",
    "\n",
    "convert(('key1', 'val1', 'key2', 'val2'), expected_dict)\n",
    "assert expected_dict == {'key1': 'val1', 'key2': 'val2'} "
   ]
  },
  {
   "cell_type": "markdown",
   "metadata": {},
   "source": [
    "### Q5. Find left-most and right-most index for a target in a sorted array with duplicated items.\n",
    "* provided an example of slow version of bsearch_slow with O(n) time complecity. \n",
    "* your solution should be faster than bsearch_slow"
   ]
  },
  {
   "cell_type": "code",
   "execution_count": 169,
   "metadata": {},
   "outputs": [],
   "source": [
    "import timeit\n",
    "def create_arr(count: int, dup: int) -> [int]:\n",
    "    return [dup for i in range(count)]"
   ]
  },
  {
   "cell_type": "code",
   "execution_count": 170,
   "metadata": {
    "scrolled": false
   },
   "outputs": [],
   "source": [
    "def bsearch_slow(arr: [int], target: int) -> (int):\n",
    "    left = -1\n",
    "    right = -1\n",
    "    for i in range(len(arr)):\n",
    "        if arr[i] == target and left == -1:\n",
    "            left = i\n",
    "        if arr[i] > target and left != -1 and right == -1:\n",
    "            right = i\n",
    "        if i == len(arr) - 1:\n",
    "            right = len(arr) - 1\n",
    "    return (left, right)"
   ]
  },
  {
   "cell_type": "code",
   "execution_count": 107,
   "metadata": {},
   "outputs": [],
   "source": [
    "assert bsearch_slow(create_arr(10000, 5), 5) == (0, 9999)"
   ]
  },
  {
   "cell_type": "code",
   "execution_count": null,
   "metadata": {},
   "outputs": [],
   "source": [
    "timeit.timeit(lambda: bsearch_slow(create_arr(10000, 5), 5), number=100)"
   ]
  },
  {
   "cell_type": "markdown",
   "metadata": {},
   "source": [
    "* slow version runing 100 times = 0.39607857299961324 seconds"
   ]
  },
  {
   "cell_type": "markdown",
   "metadata": {},
   "source": [
    "### Add your version and compare if faster."
   ]
  },
  {
   "cell_type": "code",
   "execution_count": 103,
   "metadata": {},
   "outputs": [
    {
     "name": "stdout",
     "output_type": "stream",
     "text": [
      "(0, 999)\n"
     ]
    }
   ],
   "source": [
    "# Complete this \n",
    "def bsearch(arr: [int], target: int) -> int:\n",
    "    # 先找最左边的目标值\n",
    "    l1 = 0\n",
    "    r1 = len(arr)-1\n",
    "    while(l1 < r1):\n",
    "        mid = (l1 + r1)//2\n",
    "        if(arr[mid] < target):\n",
    "            l1 = mid+1\n",
    "        else:\n",
    "            r1 = mid\n",
    "    if(arr[r1] == target):\n",
    "        left = r1\n",
    "    # 再找最右边的目标值\n",
    "    l2 = 0\n",
    "    r2 = len(arr)-1        \n",
    "    if arr[r2] == target:\n",
    "        right = r2\n",
    "    else:\n",
    "        while(l2 < r2):\n",
    "            mid = (l2 + r2)//2\n",
    "            if(arr[mid] <= target):\n",
    "                l2 = mid \n",
    "            else:\n",
    "                r2 = mid-1\n",
    "        if(arr[l2] == target):\n",
    "            right = l2\n",
    "    return(left, right)"
   ]
  },
  {
   "cell_type": "code",
   "execution_count": 109,
   "metadata": {},
   "outputs": [],
   "source": [
    "assert bsearch(create_arr(1000, 5), 5) == (0, 999)"
   ]
  },
  {
   "cell_type": "code",
   "execution_count": 105,
   "metadata": {},
   "outputs": [
    {
     "data": {
      "text/plain": [
       "0.05680650500107731"
      ]
     },
     "execution_count": 105,
     "metadata": {},
     "output_type": "execute_result"
    }
   ],
   "source": [
    "timeit.timeit(lambda: bsearch(create_arr(10000, 5), 5), number=100)"
   ]
  },
  {
   "cell_type": "markdown",
   "metadata": {},
   "source": [
    "* fast version runing 100 times = 0.05680650500107731 seconds\n",
    "* 比slow version要快，slow version的时间复杂度为O(N)，空间复杂度也为O(1)；而利用二分查找空间复杂度为O(1)，时间复杂度为O(2logN)"
   ]
  },
  {
   "cell_type": "markdown",
   "metadata": {},
   "source": [
    "### Q6. 为什么 Python dict 可以做到常数级别的查找效率"
   ]
  },
  {
   "cell_type": "markdown",
   "metadata": {},
   "source": [
    "#### 1.详解Python字典的底层原理——哈希表(Python面试必备)\n",
    "https://blog.csdn.net/qq_42815145/article/details/91353624?ops_request_misc=%257B%2522request%255Fid%2522%253A%2522162866089316780262546656%2522%252C%2522scm%2522%253A%252220140713.130102334.pc%255Fall.%2522%257D&request_id=162866089316780262546656&biz_id=0&utm_medium=distribute.pc_search_result.none-task-blog-2~all~first_rank_v2~rank_v29-5-91353624.pc_search_download_positive&utm_term=Python+dict+hash+%E7%BA%A2%E9%BB%91%E6%A0%91&spm=1018.2226.3001.4187\n",
    "#### 2.python字典实现原理-哈希函数-解决哈希冲突方法\n",
    "https://blog.csdn.net/weixin_34293141/article/details/94218306?ops_request_misc=%257B%2522request%255Fid%2522%253A%2522162866089316780262546656%2522%252C%2522scm%2522%253A%252220140713.130102334.pc%255Fall.%2522%257D&request_id=162866089316780262546656&biz_id=0&utm_medium=distribute.pc_search_result.none-task-blog-2~all~first_rank_v2~rank_v29-11-94218306.pc_search_download_positive&utm_term=Python+dict+hash+%E7%BA%A2%E9%BB%91%E6%A0%91&spm=1018.2226.3001.4187"
   ]
  }
 ],
 "metadata": {
  "kernelspec": {
   "display_name": "Python 3",
   "language": "python",
   "name": "python3"
  },
  "language_info": {
   "codemirror_mode": {
    "name": "ipython",
    "version": 3
   },
   "file_extension": ".py",
   "mimetype": "text/x-python",
   "name": "python",
   "nbconvert_exporter": "python",
   "pygments_lexer": "ipython3",
   "version": "3.9.0"
  }
 },
 "nbformat": 4,
 "nbformat_minor": 4
}
